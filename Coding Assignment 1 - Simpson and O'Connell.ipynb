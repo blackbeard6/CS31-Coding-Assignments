{
 "cells": [
  {
   "cell_type": "markdown",
   "id": "b096cbe5",
   "metadata": {},
   "source": [
    "# Coding Assignment 1"
   ]
  },
  {
   "cell_type": "markdown",
   "id": "a5bd1790",
   "metadata": {},
   "source": [
    "## *Authors: Tucker Simpson and Seamus O'Connell*"
   ]
  },
  {
   "cell_type": "markdown",
   "id": "812c3cb2",
   "metadata": {},
   "source": [
    "## Problem 1:"
   ]
  },
  {
   "cell_type": "code",
   "execution_count": 12,
   "id": "0fb1005c",
   "metadata": {},
   "outputs": [],
   "source": [
    "import math"
   ]
  },
  {
   "cell_type": "code",
   "execution_count": 48,
   "id": "e5003fb9",
   "metadata": {},
   "outputs": [],
   "source": [
    "# Input: decimal number x and decimal number y\n",
    "# Output: quotient-remainder pair (q, r) such that x = qy+r, and the run-time described in the assignment\n",
    "def divide(x, y):\n",
    "    # Base cases: if the numerator is less than the denominator, return the q = 0, r = numerator\n",
    "    if x < y:\n",
    "        return 0, x, 0\n",
    "    # if the numerator is equal to the denominator, return q = 1, r = 0\n",
    "    if x == y:\n",
    "        return 1, 0, 0\n",
    "\n",
    "    x1 = x//2  # shift numerator over 1 place (bit shift)\n",
    "    \n",
    "    # Calculate the quotient, remainder, and cost of the smaller numerator and denominator pair\n",
    "    (q1, r1, cost) = divide(x1, y)\n",
    "\n",
    "    # Left shift to adapt answer to original input\n",
    "    q = 2 * q1\n",
    "    r = 2 * r1\n",
    "\n",
    "    # If the numerator was odd, increment it by one\n",
    "    if x % 2 != 0:\n",
    "        cost += 1\n",
    "        r += 1\n",
    "\n",
    "    # If the resulting numerator is bigger than the denominator, add one to the quotient and subtract y from the\n",
    "    # denominator\n",
    "    if r >= y:        \n",
    "        # any positive integer times 2 is an even integer, so q is always even (increment cost by 1)\n",
    "        cost += 1\n",
    "        q += 1\n",
    "                \n",
    "        # Increment the cost by the max number of digits\n",
    "        cost += max(int(math.log10(r)), int(math.log10(y))) + 1\n",
    "        r -= y\n",
    "\n",
    "    return q, r, cost\n"
   ]
  },
  {
   "cell_type": "markdown",
   "id": "12e8e54f",
   "metadata": {},
   "source": [
    "# Test cases:"
   ]
  },
  {
   "cell_type": "code",
   "execution_count": 64,
   "id": "624a8bcf",
   "metadata": {},
   "outputs": [
    {
     "data": {
      "text/plain": [
       "(2, 1, 1)"
      ]
     },
     "execution_count": 64,
     "metadata": {},
     "output_type": "execute_result"
    }
   ],
   "source": [
    "divide(5,2)"
   ]
  },
  {
   "cell_type": "code",
   "execution_count": 65,
   "id": "e60b3e06",
   "metadata": {},
   "outputs": [
    {
     "data": {
      "text/plain": [
       "(1, 6, 4)"
      ]
     },
     "execution_count": 65,
     "metadata": {},
     "output_type": "execute_result"
    }
   ],
   "source": [
    "divide(21, 15)"
   ]
  },
  {
   "cell_type": "code",
   "execution_count": 66,
   "id": "efdf9479",
   "metadata": {},
   "outputs": [
    {
     "data": {
      "text/plain": [
       "(0, 0, 0)"
      ]
     },
     "execution_count": 66,
     "metadata": {},
     "output_type": "execute_result"
    }
   ],
   "source": [
    "divide(0, 5)"
   ]
  },
  {
   "cell_type": "code",
   "execution_count": 67,
   "id": "122283ab",
   "metadata": {},
   "outputs": [
    {
     "data": {
      "text/plain": [
       "(4, 0, 0)"
      ]
     },
     "execution_count": 67,
     "metadata": {},
     "output_type": "execute_result"
    }
   ],
   "source": [
    "divide(16, 4)"
   ]
  },
  {
   "cell_type": "code",
   "execution_count": 68,
   "id": "acd33d83",
   "metadata": {},
   "outputs": [
    {
     "data": {
      "text/plain": [
       "(4, 3, 2)"
      ]
     },
     "execution_count": 68,
     "metadata": {},
     "output_type": "execute_result"
    }
   ],
   "source": [
    "divide(19, 4)"
   ]
  },
  {
   "cell_type": "markdown",
   "id": "cda5457e",
   "metadata": {},
   "source": [
    "# What is the run-time when run with (30294982, 2124234)?"
   ]
  },
  {
   "cell_type": "code",
   "execution_count": 55,
   "id": "eeb9b1ec",
   "metadata": {},
   "outputs": [
    {
     "name": "stdout",
     "output_type": "stream",
     "text": [
      "(14, 555706, 26)\n"
     ]
    }
   ],
   "source": [
    "divide(30294982, 2124234)"
   ]
  },
  {
   "cell_type": "markdown",
   "id": "a9913736",
   "metadata": {},
   "source": [
    "We find the run-time is 26."
   ]
  },
  {
   "cell_type": "markdown",
   "id": "0915edf1",
   "metadata": {},
   "source": [
    "# Problem 2:"
   ]
  },
  {
   "cell_type": "markdown",
   "id": "958684cb",
   "metadata": {},
   "source": [
    "#### *Helper Methods*"
   ]
  },
  {
   "cell_type": "code",
   "execution_count": 27,
   "id": "694b2652",
   "metadata": {},
   "outputs": [],
   "source": [
    "# Citation: taken from helper.py\n",
    "def read_pi(n):\n",
    "    # opens the file name \"pi\" and reads the first n digits\n",
    "    # puts it in the list pi, and returns that list\n",
    "    pi = list()\n",
    "    f = open('../../Downloads/pi', 'r')\n",
    "    for i in range(n):\n",
    "        d = f.read(1)\n",
    "        pi.append(int(d))\n",
    "    return pi"
   ]
  },
  {
   "cell_type": "markdown",
   "id": "40f325a4",
   "metadata": {},
   "source": [
    "#### *Naive Approach*"
   ]
  },
  {
   "cell_type": "code",
   "execution_count": 28,
   "id": "49b6e3d1",
   "metadata": {},
   "outputs": [],
   "source": [
    "import time\n",
    "import matplotlib.pyplot as plt"
   ]
  },
  {
   "cell_type": "code",
   "execution_count": 29,
   "id": "07b49868",
   "metadata": {},
   "outputs": [],
   "source": [
    "# Input: n - defines pi[0:n-1] which hold the first n digits of pi\n",
    "# Output: number of inversions in the array pi[0:n-1] defined above\n",
    "def naive_inversions(n):\n",
    "    # Put the first n digits of pi into an array for processing\n",
    "    pi = read_pi(n)\n",
    "\n",
    "    num_inversions = 0\n",
    "\n",
    "    # Manually check every pair in pi[0:n-1] and check whether there is an inversion\n",
    "    for i in range(0, n):\n",
    "        for j in range(i + 1, n):\n",
    "            if pi[j] < pi[i]:\n",
    "                num_inversions += 1\n",
    "\n",
    "    return num_inversions"
   ]
  },
  {
   "cell_type": "code",
   "execution_count": 30,
   "id": "d69dfbb4",
   "metadata": {},
   "outputs": [],
   "source": [
    "# Input: number of digits of pi which we will process to check for inversions using the naive approach\n",
    "# Output: time it takes to check for inversions in the first n digits of pi using the naive approach\n",
    "def naive_inversions_time(n):\n",
    "    start_time = time.time()\n",
    "    naive_inversions(n)\n",
    "    end_time = time.time()\n",
    "\n",
    "    return end_time - start_time"
   ]
  },
  {
   "cell_type": "markdown",
   "id": "929120a9",
   "metadata": {},
   "source": [
    "### *Divide and Conquer Approach*"
   ]
  },
  {
   "cell_type": "code",
   "execution_count": 32,
   "id": "b7d2add5",
   "metadata": {},
   "outputs": [],
   "source": [
    "# Input: n - defines pi[0:n-1] which hold the first n digits of pi\n",
    "# Output: number of inversions in the array pi[0:n-1] defined above\n",
    "def fast_inversions(n):\n",
    "    pi = read_pi(n)\n",
    "    res = sort_and_count(pi)[1]\n",
    "    return res"
   ]
  },
  {
   "cell_type": "code",
   "execution_count": 56,
   "id": "d81ee77c",
   "metadata": {},
   "outputs": [],
   "source": [
    "# Input: the array pi[0:n-1] which we will process and check for inversions\n",
    "# Output: time it takes to check for inversions in the first n digits of pi using the naive approach\n",
    "def sort_and_count(pi):\n",
    "    # Base case: pi only contains one or no element(s), and therefore it is sorted and has no inversions\n",
    "    if len(pi) == 1 or 0:\n",
    "        return pi, 0\n",
    "\n",
    "    # Split the array into two halves\n",
    "    m = len(pi) // 2\n",
    "\n",
    "    # Returns the number of inversions in each half and a sorted copy of the half\n",
    "    B1, I1 = sort_and_count(pi[:m])\n",
    "    B2, I2 = sort_and_count(pi[m:])\n",
    "\n",
    "    # Counts the number of cross inversions between the two halves of the array and also combines the two halves into\n",
    "    # a sorted array\n",
    "    C, B = count_cross_inv(B1, B2)\n",
    "\n",
    "    return B, I1 + I2 + C"
   ]
  },
  {
   "cell_type": "code",
   "execution_count": 57,
   "id": "ce9f51a8",
   "metadata": {},
   "outputs": [],
   "source": [
    "# Input: Two sorted arrays P[0:p-1] and Q[0:q-1]\n",
    "# Output: num, the number of cross inversions between P and Q, and combine[0:p+q-2] the sorted array containing all\n",
    "# elements of P and Q\n",
    "def count_cross_inv(P, Q):\n",
    "    p = len(P)\n",
    "    q = len(Q)\n",
    "\n",
    "    i = j = num = k = 0\n",
    "\n",
    "    combine = [None] * (p + q)\n",
    "\n",
    "    # iterates through both arrays until we reach the end of one of them. Counts inversions and puts elements into\n",
    "    # combine in ascending order\n",
    "    while i < p and j < q:\n",
    "        # Element P[i] has a lower index then Q[j] in pi, but has a higher value. Inversion found!\n",
    "        if P[i] > Q[j]:\n",
    "            combine[k] = Q[j]\n",
    "            num += p - i\n",
    "            k += 1\n",
    "            j += 1\n",
    "        else:\n",
    "            combine[k] = P[i]\n",
    "\n",
    "            i += 1\n",
    "            k += 1\n",
    "    \n",
    "    # Only one array has been completely iterated through. Add the remainder of the other array to combine\n",
    "    if i >= p:\n",
    "        while k < p + q:\n",
    "            combine[k] = Q[j]\n",
    "            j += 1\n",
    "            k += 1\n",
    "\n",
    "    else:\n",
    "        while k < p + q:\n",
    "            combine[k] = P[i]\n",
    "            i += 1\n",
    "            k += 1\n",
    "\n",
    "    return num, combine"
   ]
  },
  {
   "cell_type": "code",
   "execution_count": 58,
   "id": "372bfb42",
   "metadata": {},
   "outputs": [],
   "source": [
    "# Input: number of digits of pi which we will process to check for inversions using the divide and conquer approach\n",
    "# Output: time it takes to check for inversions in the first n digits of pi using the divide and conquer approach\n",
    "def fast_inversions_time(n):\n",
    "    start_time = time.time()\n",
    "    fast_inversions(n)\n",
    "    end_time = time.time()\n",
    "    return end_time - start_time"
   ]
  },
  {
   "cell_type": "markdown",
   "id": "ee1d7426",
   "metadata": {},
   "source": [
    "### Graphing Run-Time"
   ]
  },
  {
   "cell_type": "code",
   "execution_count": 59,
   "id": "b65fe319",
   "metadata": {},
   "outputs": [],
   "source": [
    "# Input: the maximum number of digits of pi to process (max on x-axis)\n",
    "# Output: graph of run-time of naive and divide and conquer approaches. Run-time is calculated in increments of 100 \n",
    "# in (0, n]\n",
    "def graph_plot(n):\n",
    "    # needs matplotlib.pyplot\n",
    "    # X-axis: numbers 1 to n\n",
    "    # Y-axis: time it took to calculate inversions for x\n",
    "    X = list()\n",
    "    Yfast = list()\n",
    "    Yslow = list()\n",
    "    # Calculate the run-time in increments of 100\n",
    "    for i in range(1, n // 100):\n",
    "        X.append(i * 100)\n",
    "        Yfast.append(fast_inversions_time(i * 100))\n",
    "        Yslow.append(naive_inversions_time(i * 100))\n",
    "    \n",
    "    plt.plot(X, Yfast, label=\"Divide and Conquer Approach\")\n",
    "    plt.plot(X, Yslow, label=\"Naive Approach\")\n",
    "    plt.title('Run Time of Divide and Conquer vs. Naive Approach of Counting Inversions')\n",
    "    plt.legend(loc='upper left')\n",
    "    plt.xlabel(\"Number of Digits of Pi Processed\")\n",
    "    plt.ylabel(\"Run Time (Seconds)\")\n",
    "\n",
    "    plt.show()"
   ]
  },
  {
   "cell_type": "code",
   "execution_count": 60,
   "id": "a47a21f8",
   "metadata": {},
   "outputs": [
    {
     "data": {
      "image/png": "[encoded data removed]",
      "text/plain": [
       "<Figure size 432x288 with 1 Axes>"
      ]
     },
     "metadata": {
      "needs_background": "light"
     },
     "output_type": "display_data"
    }
   ],
   "source": [
    "graph_plot(5000)"
   ]
  },
  {
   "cell_type": "code",
   "execution_count": 62,
   "id": "5b0e4069",
   "metadata": {},
   "outputs": [
    {
     "data": {
      "text/plain": [
       "224964173233"
      ]
     },
     "execution_count": 62,
     "metadata": {},
     "output_type": "execute_result"
    }
   ],
   "source": [
    "fast_inversions(1000000)"
   ]
  },
  {
   "cell_type": "markdown",
   "id": "822ae885",
   "metadata": {},
   "source": [
    "The number of inversions in the first million digits of pi is 224964173233."
   ]
  }
 ],
 "metadata": {
  "kernelspec": {
   "display_name": "Python 3 (ipykernel)",
   "language": "python",
   "name": "python3"
  },
  "language_info": {
   "codemirror_mode": {
    "name": "ipython",
    "version": 3
   },
   "file_extension": ".py",
   "mimetype": "text/x-python",
   "name": "python",
   "nbconvert_exporter": "python",
   "pygments_lexer": "ipython3",
   "version": "3.9.7"
  }
 },
 "nbformat": 4,
 "nbformat_minor": 5
}
