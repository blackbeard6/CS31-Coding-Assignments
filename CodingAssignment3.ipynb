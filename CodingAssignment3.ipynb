{
 "cells": [
  {
   "cell_type": "markdown",
   "id": "f2e4cbf9",
   "metadata": {},
   "source": [
    "# Coding Assignment 3: Tucker Simpson and Seamus O'Connell"
   ]
  },
  {
   "cell_type": "markdown",
   "id": "c607da49",
   "metadata": {},
   "source": [
    "I discussed these problems with Jorie MacDonald"
   ]
  },
  {
   "cell_type": "markdown",
   "id": "c1c27395",
   "metadata": {},
   "source": [
    "## Problem 1\n",
    "Call a number $n$ cube-summable if it can be expressed as a sum of distinct positive perfect cubes. So, the number 9 is cube-summable since $9 = 1^3 + 2^3$, but the number 2 is not. In this coding assignment you have to find out how many cube-summable numbers are there between 1 and a million?"
   ]
  },
  {
   "cell_type": "markdown",
   "id": "a97b09c0",
   "metadata": {},
   "source": [
    "This is a special case of the subset sum problem. It differs in what is in $A$ and what $B$ is. Furthermore, $A = [1^3, 2^3, 3^3, ... ]$. There are precisely $\\lfloor n^{1/3} \\rfloor$ numbers in $A$, with $a_n = \\lfloor n^{1/3} \\rfloor ^3$. Rather than a specific target sum $B$, we are interested in finding how many different integers between 1 and a million we can create by summing subsets of perfect cubes from $A$. In subset sum, we actually already do this for all numbers between 1 and $B$. Therefore, our recurrence doesn't change although we tweak the recovery to change what answer we are returning. In the specific case of finding the cube-summable numbers between 1 and a million, we have $A= [1^3, 2^3, ..., 100^3]$ and are interested in all $b$ between 1 and 1,000,000."
   ]
  },
  {
   "cell_type": "code",
   "execution_count": 61,
   "id": "8587f7c6",
   "metadata": {},
   "outputs": [],
   "source": [
    "import math\n",
    "import numpy as np\n",
    "import matplotlib.pyplot as plt"
   ]
  },
  {
   "cell_type": "code",
   "execution_count": 65,
   "id": "0f16c96a",
   "metadata": {},
   "outputs": [],
   "source": [
    "'''\n",
    "Input: a non-negative integer n\n",
    "Output: number of cube-summable numbers between 1 and n\n",
    "'''\n",
    "def cube_summable_nums(n):\n",
    "    # Calculate n^(1/3). We know that anything higher than x will be greater than n if we cube it, so we\n",
    "    # only consider numbers from 1 to x as potential summands\n",
    "    x = math.floor(np.cbrt(n))\n",
    "    \n",
    "    # initialize A\n",
    "    A = [0] * (x)\n",
    "    for i in range(x):\n",
    "        A[i] = (i+1)**3\n",
    "        \n",
    "    # F[i] = 1 if i is a cube summable number, F[i] = 0 otherwise\n",
    "    F = np.zeros((x, n+1))\n",
    "    \n",
    "    # Base case: Empty set sums to zero\n",
    "    for i in range(0, x):\n",
    "        F[i, 0] = 1\n",
    "    \n",
    "    for m in range(0,x):\n",
    "        for targ in range(1,n+1):\n",
    "            \n",
    "            # targ is less than A[m], so because we only consider positive summands, A[m] could not be one of them\n",
    "            if targ - A[m] < 0:\n",
    "                F[m, targ] = F[m-1, targ]\n",
    "                \n",
    "            # If we  found summands in A[0:m-1] that sum to targ or sum to targ-A[m] we can find summands in A[0:m]\n",
    "            # that sum to targ\n",
    "            else:\n",
    "                F[m, targ] = max(F[m-1, targ], F[m-1, targ-A[m]])\n",
    "    \n",
    "    # Solution recovery -- with the entire set of potential summands at our disposal, how many numbers did we reach\n",
    "    sum = 0\n",
    "    for i in range(1, n+1):\n",
    "        if F[x-1, i] == 1:\n",
    "            sum += 1\n",
    "    \n",
    "    return sum"
   ]
  },
  {
   "cell_type": "code",
   "execution_count": 71,
   "id": "418a9358",
   "metadata": {},
   "outputs": [
    {
     "data": {
      "text/plain": [
       "997212"
      ]
     },
     "execution_count": 71,
     "metadata": {},
     "output_type": "execute_result"
    }
   ],
   "source": [
    "cube_summable_nums(1000000)"
   ]
  },
  {
   "cell_type": "code",
   "execution_count": 72,
   "id": "6f52be43",
   "metadata": {},
   "outputs": [
    {
     "data": {
      "text/plain": [
       "497212"
      ]
     },
     "execution_count": 72,
     "metadata": {},
     "output_type": "execute_result"
    }
   ],
   "source": [
    "cube_summable_nums(500000)"
   ]
  },
  {
   "cell_type": "code",
   "execution_count": 176,
   "id": "aa62a7e4",
   "metadata": {},
   "outputs": [],
   "source": [
    "'''\n",
    "Input: non-negative integer n\n",
    "Output: graph of the runnning time of cube_summable_nums(n) for i<=1,000,000 in jumps of 10,000\n",
    "'''\n",
    "def graph_cube_summable(n):\n",
    "    X = list()\n",
    "    Y = list()\n",
    "    # Calculate the run-time in increments of 100\n",
    "    for i in range(1, n // 10000):\n",
    "        print(\"On \" + str(i) + \" out of \" + str(n//10000))\n",
    "        X.append(i * 10000)\n",
    "        Y.append(cube_summable_nums(i * 10000))\n",
    "    \n",
    "    plt.plot(X, Y)\n",
    "    plt.title('Cube-Summable Numbers')\n",
    "    plt.legend(loc='upper left')\n",
    "    plt.legend(loc='upper left')\n",
    "    plt.xlabel(\"n\")\n",
    "    plt.ylabel(\"Num of CSNs between 1 and n\")\n",
    "\n",
    "    plt.show()"
   ]
  },
  {
   "cell_type": "code",
   "execution_count": 177,
   "id": "5dc530d8",
   "metadata": {},
   "outputs": [
    {
     "name": "stdout",
     "output_type": "stream",
     "text": [
      "On 1 out of 100\n",
      "On 2 out of 100\n",
      "On 3 out of 100\n",
      "On 4 out of 100\n",
      "On 5 out of 100\n",
      "On 6 out of 100\n",
      "On 7 out of 100\n",
      "On 8 out of 100\n",
      "On 9 out of 100\n",
      "On 10 out of 100\n",
      "On 11 out of 100\n",
      "On 12 out of 100\n",
      "On 13 out of 100\n",
      "On 14 out of 100\n",
      "On 15 out of 100\n",
      "On 16 out of 100\n",
      "On 17 out of 100\n",
      "On 18 out of 100\n",
      "On 19 out of 100\n",
      "On 20 out of 100\n",
      "On 21 out of 100\n",
      "On 22 out of 100\n",
      "On 23 out of 100\n",
      "On 24 out of 100\n",
      "On 25 out of 100\n",
      "On 26 out of 100\n",
      "On 27 out of 100\n",
      "On 28 out of 100\n",
      "On 29 out of 100\n",
      "On 30 out of 100\n",
      "On 31 out of 100\n",
      "On 32 out of 100\n",
      "On 33 out of 100\n",
      "On 34 out of 100\n",
      "On 35 out of 100\n",
      "On 36 out of 100\n",
      "On 37 out of 100\n",
      "On 38 out of 100\n",
      "On 39 out of 100\n",
      "On 40 out of 100\n",
      "On 41 out of 100\n",
      "On 42 out of 100\n",
      "On 43 out of 100\n",
      "On 44 out of 100\n",
      "On 45 out of 100\n",
      "On 46 out of 100\n",
      "On 47 out of 100\n",
      "On 48 out of 100\n",
      "On 49 out of 100\n",
      "On 50 out of 100\n",
      "On 51 out of 100\n",
      "On 52 out of 100\n",
      "On 53 out of 100\n",
      "On 54 out of 100\n",
      "On 55 out of 100\n",
      "On 56 out of 100\n",
      "On 57 out of 100\n",
      "On 58 out of 100\n",
      "On 59 out of 100\n",
      "On 60 out of 100\n",
      "On 61 out of 100\n",
      "On 62 out of 100\n",
      "On 63 out of 100\n",
      "On 64 out of 100\n",
      "On 65 out of 100\n",
      "On 66 out of 100\n",
      "On 67 out of 100\n",
      "On 68 out of 100\n",
      "On 69 out of 100\n",
      "On 70 out of 100\n",
      "On 71 out of 100\n",
      "On 72 out of 100\n",
      "On 73 out of 100\n",
      "On 74 out of 100\n",
      "On 75 out of 100\n",
      "On 76 out of 100\n",
      "On 77 out of 100\n",
      "On 78 out of 100\n",
      "On 79 out of 100\n",
      "On 80 out of 100\n",
      "On 81 out of 100\n",
      "On 82 out of 100\n",
      "On 83 out of 100\n",
      "On 84 out of 100\n",
      "On 85 out of 100\n",
      "On 86 out of 100\n",
      "On 87 out of 100\n",
      "On 88 out of 100\n",
      "On 89 out of 100\n",
      "On 90 out of 100\n",
      "On 91 out of 100\n",
      "On 92 out of 100\n",
      "On 93 out of 100\n",
      "On 94 out of 100\n",
      "On 95 out of 100\n",
      "On 96 out of 100\n",
      "On 97 out of 100\n",
      "On 98 out of 100\n",
      "On 99 out of 100\n"
     ]
    },
    {
     "name": "stderr",
     "output_type": "stream",
     "text": [
      "No handles with labels found to put in legend.\n",
      "No handles with labels found to put in legend.\n"
     ]
    },
    {
     "data": {
      "image/png": "[encoded data removed]",
      "text/plain": [
       "<Figure size 432x288 with 1 Axes>"
      ]
     },
     "metadata": {
      "needs_background": "light"
     },
     "output_type": "display_data"
    }
   ],
   "source": [
    "graph_cube_summable(1000000)"
   ]
  },
  {
   "cell_type": "markdown",
   "id": "dc0933e2",
   "metadata": {},
   "source": [
    "Graphing the cube-summable numbers reveals that the relationship between the number of cube-summable numbers of $n$ and $n$ is roughly linear. Moreover, the relationship is roughly $y = x.$"
   ]
  },
  {
   "cell_type": "markdown",
   "id": "0b2df64a",
   "metadata": {},
   "source": [
    "## Problem 2\n",
    "As in Coding Assignment 1, for a positve integer $n$, define $A_n$ to be the array of single-digit non-negative\n",
    "integers containing the first $n$ digits of π. So $A_1 = [3]$, $A_2 = [3, 1]$, and so on. You have to write code which\n",
    "takes input $n$ and finds the length of the longest increasing subsequence in $A_n$."
   ]
  },
  {
   "cell_type": "code",
   "execution_count": 74,
   "id": "956944e6",
   "metadata": {},
   "outputs": [],
   "source": [
    "import time"
   ]
  },
  {
   "cell_type": "code",
   "execution_count": 75,
   "id": "290d8d0c",
   "metadata": {},
   "outputs": [],
   "source": [
    "# Citation: taken from helper.py\n",
    "def read_pi(n):\n",
    "    # opens the file name \"pi\" and reads the first n digits\n",
    "    # puts it in the list pi, and returns that list\n",
    "    pi = list()\n",
    "    f = open('../../Downloads/pi', 'r')\n",
    "    for i in range(n):\n",
    "        d = f.read(1)\n",
    "        pi.append(int(d))\n",
    "    return pi"
   ]
  },
  {
   "cell_type": "markdown",
   "id": "a3aa7e15",
   "metadata": {},
   "source": [
    "Implement the $O(n^2)$ time algorithm for LIS. Use this to return the length of an LIS of $A_{10000}$, that\n",
    "is, the length of an LIS among the first 10,000 digits of π? Does this code return the length of an LIS\n",
    "of $A_{1000000}$? If so, how long did it take?"
   ]
  },
  {
   "cell_type": "code",
   "execution_count": 85,
   "id": "abd74b1e",
   "metadata": {},
   "outputs": [],
   "source": [
    "'''\n",
    "Input: a positive integer n\n",
    "Ouptut: the length of the LIS in the first n digits of pi\n",
    "'''\n",
    "def slow_LIS(n):\n",
    "    start_time = time.time()\n",
    "    \n",
    "    # fill A with the first n digits of pi\n",
    "    A = read_pi(n)\n",
    "    \n",
    "    # L[i] will contain the longest increasing subsequence ending at A[i] for all 0 <= i <= n-1\n",
    "    L = np.zeros(n, int)\n",
    "    \n",
    "    # Equal to the length of the largest LIS that we have seen at any point in the algorithm\n",
    "    longest = 0\n",
    "    \n",
    "    for m in range(0, n):\n",
    "        \n",
    "        # L[m] is at least 1\n",
    "        L[m] = 1\n",
    "        \n",
    "        # Find the longest LIS in A[0:m-1] which we can append A[m] to\n",
    "        for j in range(m):\n",
    "            if A[j] <= A[m]:\n",
    "                L[m] = max(L[m], L[j] + 1)\n",
    "                \n",
    "        longest = max(longest, L[m])\n",
    "    \n",
    "    print(\"Actual run time: \" + str(time.time() - start_time) + \" seconds.\")\n",
    "    \n",
    "    return longest"
   ]
  },
  {
   "cell_type": "code",
   "execution_count": 86,
   "id": "f3157446",
   "metadata": {},
   "outputs": [
    {
     "name": "stdout",
     "output_type": "stream",
     "text": [
      "Actual run time: 24.032535076141357 seconds.\n"
     ]
    },
    {
     "data": {
      "text/plain": [
       "1136"
      ]
     },
     "execution_count": 86,
     "metadata": {},
     "output_type": "execute_result"
    }
   ],
   "source": [
    "slow_LIS(10000)"
   ]
  },
  {
   "cell_type": "markdown",
   "id": "147d1b9b",
   "metadata": {},
   "source": [
    "Running this on $A_{1000000}$ takes a very long time, and we did not have time to run it to completion."
   ]
  },
  {
   "cell_type": "code",
   "execution_count": 84,
   "id": "66205e33",
   "metadata": {},
   "outputs": [
    {
     "ename": "KeyboardInterrupt",
     "evalue": "",
     "output_type": "error",
     "traceback": [
      "\u001b[0;31m---------------------------------------------------------------------------\u001b[0m",
      "\u001b[0;31mKeyboardInterrupt\u001b[0m                         Traceback (most recent call last)",
      "\u001b[0;32m/var/folders/4h/9k3bmnhx67z0dq317h5x18h80000gn/T/ipykernel_17502/729291551.py\u001b[0m in \u001b[0;36m<module>\u001b[0;34m\u001b[0m\n\u001b[0;32m----> 1\u001b[0;31m \u001b[0mslow_LIS\u001b[0m\u001b[0;34m(\u001b[0m\u001b[0;36m1000000\u001b[0m\u001b[0;34m)\u001b[0m\u001b[0;34m\u001b[0m\u001b[0;34m\u001b[0m\u001b[0m\n\u001b[0m",
      "\u001b[0;32m/var/folders/4h/9k3bmnhx67z0dq317h5x18h80000gn/T/ipykernel_17502/352969248.py\u001b[0m in \u001b[0;36mslow_LIS\u001b[0;34m(n)\u001b[0m\n\u001b[1;32m     23\u001b[0m         \u001b[0;32mfor\u001b[0m \u001b[0mj\u001b[0m \u001b[0;32min\u001b[0m \u001b[0mrange\u001b[0m\u001b[0;34m(\u001b[0m\u001b[0mm\u001b[0m\u001b[0;34m)\u001b[0m\u001b[0;34m:\u001b[0m\u001b[0;34m\u001b[0m\u001b[0;34m\u001b[0m\u001b[0m\n\u001b[1;32m     24\u001b[0m             \u001b[0;32mif\u001b[0m \u001b[0mA\u001b[0m\u001b[0;34m[\u001b[0m\u001b[0mj\u001b[0m\u001b[0;34m]\u001b[0m \u001b[0;34m<=\u001b[0m \u001b[0mA\u001b[0m\u001b[0;34m[\u001b[0m\u001b[0mm\u001b[0m\u001b[0;34m]\u001b[0m\u001b[0;34m:\u001b[0m\u001b[0;34m\u001b[0m\u001b[0;34m\u001b[0m\u001b[0m\n\u001b[0;32m---> 25\u001b[0;31m                 \u001b[0mL\u001b[0m\u001b[0;34m[\u001b[0m\u001b[0mm\u001b[0m\u001b[0;34m]\u001b[0m \u001b[0;34m=\u001b[0m \u001b[0mmax\u001b[0m\u001b[0;34m(\u001b[0m\u001b[0mL\u001b[0m\u001b[0;34m[\u001b[0m\u001b[0mm\u001b[0m\u001b[0;34m]\u001b[0m\u001b[0;34m,\u001b[0m \u001b[0mL\u001b[0m\u001b[0;34m[\u001b[0m\u001b[0mj\u001b[0m\u001b[0;34m]\u001b[0m \u001b[0;34m+\u001b[0m \u001b[0;36m1\u001b[0m\u001b[0;34m)\u001b[0m\u001b[0;34m\u001b[0m\u001b[0;34m\u001b[0m\u001b[0m\n\u001b[0m\u001b[1;32m     26\u001b[0m \u001b[0;34m\u001b[0m\u001b[0m\n\u001b[1;32m     27\u001b[0m         \u001b[0mlongest\u001b[0m \u001b[0;34m=\u001b[0m \u001b[0mmax\u001b[0m\u001b[0;34m(\u001b[0m\u001b[0mlongest\u001b[0m\u001b[0;34m,\u001b[0m \u001b[0mL\u001b[0m\u001b[0;34m[\u001b[0m\u001b[0mm\u001b[0m\u001b[0;34m]\u001b[0m\u001b[0;34m)\u001b[0m\u001b[0;34m\u001b[0m\u001b[0;34m\u001b[0m\u001b[0m\n",
      "\u001b[0;31mKeyboardInterrupt\u001b[0m: "
     ]
    }
   ],
   "source": [
    "slow_LIS(1000000)"
   ]
  },
  {
   "cell_type": "markdown",
   "id": "93e55d19",
   "metadata": {},
   "source": [
    "Implement the $O(n $ log $ n)$ time algorithm for LIS. Use this to return the length of an LIS of $A_{1000000}$,\n",
    "that is, the length of an LIS among the first million digits of π? How long did this take? (10 points)"
   ]
  },
  {
   "cell_type": "code",
   "execution_count": 87,
   "id": "93cb975d",
   "metadata": {},
   "outputs": [],
   "source": [
    "'''\n",
    "Input: D is a non-decreasing list such that D[i] is equal to the smallest A[j] such that A[j] is the last element\n",
    "        in an LIS of length i+1\n",
    "       e is an element A[m]. We are working toward finding the LIS in A[0:m] that ends at A[m]\n",
    "Output: The largest l such that D[l] <= m\n",
    "'''\n",
    "def bin_search(D, e):\n",
    "    l = 0\n",
    "    u = len(D)\n",
    "    \n",
    "    # Invariant: l <= s* <= u\n",
    "    while u-l > 1:\n",
    "        # s = ceiling((l+u)/2)\n",
    "        # credit: https://stackoverflow.com/questions/14822184/is-there-a-ceiling-equivalent-of-operator-in-python\n",
    "        s = -((l+u) // -2)  # upside-down floor division\n",
    "        \n",
    "        # Check the right-half for a further-right element <= m\n",
    "        if(D[s] <= e):\n",
    "            l = s\n",
    "        \n",
    "        # Check the left half for an element <= m\n",
    "        else:\n",
    "            u = s\n",
    "    \n",
    "    return l"
   ]
  },
  {
   "cell_type": "code",
   "execution_count": 88,
   "id": "c9891343",
   "metadata": {},
   "outputs": [],
   "source": [
    "'''\n",
    "Input: a positive integer n\n",
    "Ouptut: the length of the LIS in the first n digits of pi\n",
    "'''\n",
    "def fast_LIS(n):\n",
    "    start_time = time.time()\n",
    "    \n",
    "    # fill A with the first n digits of pi\n",
    "    A = read_pi(n)\n",
    "    \n",
    "    # L[i] will contain the longest increasing subsequence ending at A[i] for all 0 <= i <= n-1\n",
    "    L = np.zeros(n, dtype = int)\n",
    "    \n",
    "    # t-1 is equal to the length of the longest LIS which we have seen\n",
    "    t = 0\n",
    "    \n",
    "    # D[j] is equal to the smallest element A[i] such that L[i] = j\n",
    "    D = []\n",
    "    \n",
    "    for m in range(0, n):\n",
    "        # Find the length of the longest LIS which we can append A[m] to\n",
    "        s = bin_search(D, A[m])\n",
    "        \n",
    "        L[m] = int(s + 1)\n",
    "        \n",
    "        # Account for D being 0-indexed: D[i] corresponds to LIS of length i+1\n",
    "        # Bank the new longest LIS that we have discovered\n",
    "        if L[m] > t - 1:\n",
    "            t += 1\n",
    "            D.append(A[m])\n",
    "            \n",
    "        # m is now index such that L[m] = s and A[m] is the smallest element ending an LIS of length s\n",
    "        elif A[m] < D[L[m]]:\n",
    "            D[L[m]] = A[m]\n",
    "    \n",
    "    print(\"Actual run time: \" + str(time.time()-start_time) + \" seconds.\")\n",
    "    \n",
    "    return t-1"
   ]
  },
  {
   "cell_type": "code",
   "execution_count": 89,
   "id": "1498e7e0",
   "metadata": {},
   "outputs": [
    {
     "name": "stdout",
     "output_type": "stream",
     "text": [
      "Actual run time: 0.04268503189086914 seconds.\n"
     ]
    },
    {
     "data": {
      "text/plain": [
       "1136"
      ]
     },
     "execution_count": 89,
     "metadata": {},
     "output_type": "execute_result"
    }
   ],
   "source": [
    "fast_LIS(10000)"
   ]
  },
  {
   "cell_type": "code",
   "execution_count": 83,
   "id": "419930af",
   "metadata": {},
   "outputs": [
    {
     "name": "stdout",
     "output_type": "stream",
     "text": [
      "Actual run time: 4.671924829483032 seconds.\n"
     ]
    },
    {
     "data": {
      "text/plain": [
       "101892"
      ]
     },
     "execution_count": 83,
     "metadata": {},
     "output_type": "execute_result"
    }
   ],
   "source": [
    "fast_LIS(1000000)"
   ]
  },
  {
   "cell_type": "code",
   "execution_count": null,
   "id": "10c36860",
   "metadata": {},
   "outputs": [],
   "source": []
  }
 ],
 "metadata": {
  "kernelspec": {
   "display_name": "Python 3 (ipykernel)",
   "language": "python",
   "name": "python3"
  },
  "language_info": {
   "codemirror_mode": {
    "name": "ipython",
    "version": 3
   },
   "file_extension": ".py",
   "mimetype": "text/x-python",
   "name": "python",
   "nbconvert_exporter": "python",
   "pygments_lexer": "ipython3",
   "version": "3.9.7"
  }
 },
 "nbformat": 4,
 "nbformat_minor": 5
}
