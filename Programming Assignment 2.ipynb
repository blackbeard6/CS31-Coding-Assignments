{
 "cells": [
  {
   "cell_type": "markdown",
   "id": "690ee9bb",
   "metadata": {},
   "source": [
    "# CODING ASSIGNMENT 2\n",
    "Authors: Tucker and Seamus\n"
   ]
  },
  {
   "cell_type": "markdown",
   "id": "8582be52",
   "metadata": {},
   "source": [
    "## Problem 1: Naive Polynomial Multiplication"
   ]
  },
  {
   "cell_type": "code",
   "execution_count": 5,
   "id": "a52ee69f",
   "metadata": {},
   "outputs": [],
   "source": [
    "# Input: two arrays of length n that describe the parameters of\n",
    "# two n-degree polynomials\n",
    "# Output: The coefficients of the product polynomial: array R[0:2n]\n",
    "def naive_multiply(P, Q):\n",
    "    n = max(len(P) - 1, len(Q) - 1)\n",
    "    \n",
    "    # create return array\n",
    "    R = [0] * (2 * n + 1)\n",
    "\n",
    "    # implement equation (1) from lecture 6 -- for every index k\n",
    "    # in the return array, calculate the coefficient\n",
    "    for k in range(0, 2 * n + 1):\n",
    "        if k <= n:\n",
    "            prod = 0\n",
    "            for i in range(0, k + 1):\n",
    "                prod += P[i] * Q[k - i]\n",
    "\n",
    "        else:\n",
    "            prod = 0\n",
    "            for i in range(k - n, n + 1):\n",
    "                prod += P[i] * Q[k - i]\n",
    "\n",
    "        R[k] = prod\n",
    "\n",
    "    return R"
   ]
  },
  {
   "cell_type": "markdown",
   "id": "1ea244b3",
   "metadata": {},
   "source": [
    "## Problem 2: Karatsuba Polynomial Multiplication"
   ]
  },
  {
   "cell_type": "code",
   "execution_count": 10,
   "id": "0ad13b17",
   "metadata": {},
   "outputs": [],
   "source": [
    "import math"
   ]
  },
  {
   "cell_type": "code",
   "execution_count": 115,
   "id": "d5da5789",
   "metadata": {},
   "outputs": [],
   "source": [
    "# Input: two arrays of length n that describe the parameters of\n",
    "# two n-degree polynomials\n",
    "# Output: The coefficients of the product polynomial: array R[0:2n]\n",
    "def karat_mult_poly(P, Q):\n",
    "    n = max(len(P) - 1, len(Q) - 1)\n",
    "\n",
    "    # Base case -- P and Q have 2 or less elements\n",
    "    if n <= 1:\n",
    "        return naive_multiply(P, Q)\n",
    "\n",
    "    m = math.ceil(n/2)\n",
    "\n",
    "    P1 = [0] * (m+1) # P'\n",
    "    Q1 = [0] * (m+1) # Q' \n",
    "    \n",
    "    # recall definitions of p1(x), p2(x), q1(x), q2(x)\n",
    "    for i in range(0, m):\n",
    "        P1[i] = P[i] + P[m + i]\n",
    "        Q1[i] = Q[i] + Q[m + i]\n",
    "    \n",
    "    # in which case n = 2m since m = n/2 or (n+1)/2\n",
    "    if n > (2*m) - 1:\n",
    "        P1[m] = P[n]\n",
    "        Q1[m] = Q[n]\n",
    "    # array is initialized full of zeros so no need for else\n",
    "    \n",
    "    # now P1 has coefficients p1(x) + p2(x) and Q1 has the coefficients\n",
    "    # q1(x) + q2(x). They are of degree m\n",
    "    \n",
    "    # R1 has coefficients of p1(x) * q1(x)\n",
    "    R1 = karat_mult_poly(P[:m], Q[:m])\n",
    "    # R2 has coefficients of p2(x) * q2(x)\n",
    "    R2 = karat_mult_poly(P[m:], Q[m:])\n",
    "    # R2 has coefficients of (p1(x)+p2(x)) * (q1(x)+q2(x))\n",
    "    R3 = karat_mult_poly(P1, Q1)\n",
    "\n",
    "    # Make sure R1, R2 have length 2*m by padding zeros\n",
    "    while len(R1) < 2*m:\n",
    "        R1.append(0)\n",
    "\n",
    "    while len(R2) < 2*m:\n",
    "        R2.append(0)\n",
    "    \n",
    "    while len(R3) < 2*m:\n",
    "        R3.append(0)\n",
    "\n",
    "    R4 = [0] * (2*m)\n",
    "\n",
    "    for i in range(2 * m):\n",
    "        R4[i] = R3[i] - R1[i] - R2[i]\n",
    "    # R4 now has the coefficents of p1(x)*q2(x) + p2(x)*q1(x) \n",
    "    # and is degree 2m\n",
    "\n",
    "    R = [0] * (2*n + 1)\n",
    "    \n",
    "    # Add results and pad zeros\n",
    "    for i in range(len(R)):\n",
    "        r1 = r2 = r4 = 0\n",
    "        \n",
    "        # Prevent index out of bounds\n",
    "        if i < len(R1):\n",
    "            r1 = R1[i]\n",
    "\n",
    "        if i >= m and i-(m) < len(R4):\n",
    "            r4 = R4[i-(m)]\n",
    "\n",
    "        if i >= 2*(m):\n",
    "            r2 = R2[i-(2*(m))]\n",
    "\n",
    "        R[i] = r1 + r2 + r4\n",
    "\n",
    "    return R"
   ]
  },
  {
   "cell_type": "markdown",
   "id": "de224de2",
   "metadata": {},
   "source": [
    "## Pi exercise"
   ]
  },
  {
   "cell_type": "code",
   "execution_count": 116,
   "id": "3f299cd8",
   "metadata": {},
   "outputs": [],
   "source": [
    "# Citation: taken from helper.py\n",
    "def read_pi(n):\n",
    "    # opens the file name \"pi\" and reads the first n digits\n",
    "    # puts it in the list pi, and returns that list\n",
    "    pi = list()\n",
    "    f = open('../../Downloads/pi', 'r')\n",
    "    for i in range(n):\n",
    "        d = f.read(1)\n",
    "        pi.append(int(d))\n",
    "    return pi"
   ]
  },
  {
   "cell_type": "code",
   "execution_count": 121,
   "id": "c0816a13",
   "metadata": {},
   "outputs": [],
   "source": [
    "# Input: non-negative integer n\n",
    "# Output: an array R of the polynomial composed of the product\n",
    "# of the first n+1 digits of pi multiplied by an identical array\n",
    "def pi_by_pi(n):\n",
    "    pi = read_pi(n+1)\n",
    "    \n",
    "    R = karat_mult_poly(pi, pi)    \n",
    "    \n",
    "    return R"
   ]
  },
  {
   "cell_type": "code",
   "execution_count": 122,
   "id": "9f8f8946",
   "metadata": {},
   "outputs": [],
   "source": [
    "# Input: non-negative integer n\n",
    "# Output: the coefficients of the polynomial Rn described in CA2\n",
    "def naive_pi_by_pi(n):\n",
    "    pi = read_pi(n+1)\n",
    "    \n",
    "    R = naive_multiply(pi, pi)    \n",
    "    \n",
    "    return R"
   ]
  },
  {
   "cell_type": "code",
   "execution_count": 123,
   "id": "2259cfb9",
   "metadata": {},
   "outputs": [],
   "source": [
    "# Input: non-negative integer n\n",
    "# Output: the sum of the squares of the coefficients of the\n",
    "# polynomial Rn\n",
    "def get_squared_sum(n):\n",
    "    R = pi_by_pi(n)\n",
    "    runningSum = 0\n",
    "    \n",
    "    for num in R:\n",
    "        runningSum += num*num\n",
    "\n",
    "    return runningSum"
   ]
  },
  {
   "cell_type": "code",
   "execution_count": 124,
   "id": "b75140fb",
   "metadata": {},
   "outputs": [
    {
     "data": {
      "text/plain": [
       "2193109171093891"
      ]
     },
     "execution_count": 124,
     "metadata": {},
     "output_type": "execute_result"
    }
   ],
   "source": [
    "get_squared_sum(20000)"
   ]
  },
  {
   "cell_type": "markdown",
   "id": "371951bd",
   "metadata": {},
   "source": [
    "## Exploring Run Time"
   ]
  },
  {
   "cell_type": "markdown",
   "id": "354858d2",
   "metadata": {},
   "source": [
    "First, we measure time using the time module of Python 3. Plot, as a function of n, n going from 1 to 10, 000 in jumps of 100, the time taken by both algorithms to compute rn(x). Show these two “curves” overlaid on the same plot. Clearly mark which is which. At roughly what n do you see Karatsuba “beating” the naive algorithm (if at all)?"
   ]
  },
  {
   "cell_type": "code",
   "execution_count": 22,
   "id": "6290f72d",
   "metadata": {},
   "outputs": [],
   "source": [
    "import time\n",
    "import matplotlib.pyplot as plt"
   ]
  },
  {
   "cell_type": "code",
   "execution_count": 30,
   "id": "68fc4f6c",
   "metadata": {},
   "outputs": [],
   "source": [
    "# Input: non-negative integer n\n",
    "# Output: the time needed to get the polynomial Rn using Karatsuba\n",
    "# algorithm\n",
    "def karat_time(n):\n",
    "    start_time = time.time()\n",
    "    pi_by_pi(n)\n",
    "    end_time = time.time()\n",
    "\n",
    "    return end_time - start_time"
   ]
  },
  {
   "cell_type": "code",
   "execution_count": 31,
   "id": "eb08cb15",
   "metadata": {},
   "outputs": [],
   "source": [
    "# Input: non-negative integer n\n",
    "# Output: the time needed to get the polynomial Rn using Naive\n",
    "# algorithm\n",
    "def naive_time(n):\n",
    "    start_time = time.time()\n",
    "    naive_pi_by_pi(n)\n",
    "    end_time = time.time()\n",
    "\n",
    "    return end_time - start_time"
   ]
  },
  {
   "cell_type": "code",
   "execution_count": 32,
   "id": "08728b6a",
   "metadata": {},
   "outputs": [],
   "source": [
    "# Input: non-negative integer n\n",
    "# Output: graph of the result of naive_time(i) and karat_time(i)\n",
    "# for i<=10,000 in jumps of 100\n",
    "def compare_runtimes(n):\n",
    "    X = list()\n",
    "    Yfast = list()\n",
    "    Yslow = list()\n",
    "    # Calculate the run-time in increments of 100\n",
    "    for i in range(1, n // 100):\n",
    "        X.append(i * 100)\n",
    "        Yfast.append(karat_time(i * 100))\n",
    "        Yslow.append(naive_time(i * 100))\n",
    "    \n",
    "    plt.plot(X, Yfast, label=\"Karatsuba's Approach\")\n",
    "    plt.plot(X, Yslow, label=\"Naive Approach\")\n",
    "    plt.title('Run Time of Karatsuba vs. Naive Approach of Polynomial Multiplication')\n",
    "    plt.legend(loc='upper left')\n",
    "    plt.xlabel(\"Number of Digits of Pi Processed\")\n",
    "    plt.ylabel(\"Run Time (Seconds)\")\n",
    "\n",
    "    plt.show()"
   ]
  },
  {
   "cell_type": "code",
   "execution_count": 33,
   "id": "6cfab6b8",
   "metadata": {},
   "outputs": [
    {
     "data": {
      "image/png": "[encoded data removed]",
      "text/plain": [
       "<Figure size 432x288 with 1 Axes>"
      ]
     },
     "metadata": {
      "needs_background": "light"
     },
     "output_type": "display_data"
    }
   ],
   "source": [
    "compare_runtimes(10000)"
   ]
  },
  {
   "cell_type": "markdown",
   "id": "9f0f1907",
   "metadata": {},
   "source": [
    "We see that after roughly 5000, Karutsuba consistently beats the Naive approach."
   ]
  },
  {
   "cell_type": "code",
   "execution_count": 96,
   "id": "f229aa3f",
   "metadata": {},
   "outputs": [],
   "source": [
    "# Modification of the naive algorithm to include a counter\n",
    "def naive_multiply_count(P, Q, ops = 0):\n",
    "    n = max(len(P) - 1, len(Q) - 1)\n",
    "    R = [0] * (2 * n + 1)\n",
    "\n",
    "    for k in range(0, 2 * n + 1):\n",
    "        if k <= n:\n",
    "            prod = 0\n",
    "            for i in range(0, k + 1):\n",
    "                ops += 1\n",
    "                prod += P[i] * Q[k - i]\n",
    "\n",
    "        else:\n",
    "            prod = 0\n",
    "            for i in range(k - n, n + 1):\n",
    "                ops += 1\n",
    "                prod += P[i] * Q[k - i]\n",
    "\n",
    "        R[k] = prod\n",
    "\n",
    "    return R, ops"
   ]
  },
  {
   "cell_type": "code",
   "execution_count": 125,
   "id": "35d6fd27",
   "metadata": {},
   "outputs": [],
   "source": [
    "# Modification of the karat_mult_poly algorithm to add a counter\n",
    "# of operations. See comments above for thorough comments\n",
    "def karat_mult_poly_count(P, Q, ops=0):\n",
    "    n = max(len(P) - 1, len(Q) - 1)\n",
    "\n",
    "    if n <= 1:\n",
    "        # Returns coefficients and run-time\n",
    "        return naive_multiply_count(P, Q)\n",
    "\n",
    "    m = math.ceil(n / 2)\n",
    "\n",
    "    P1 = [0] * (m + 1)\n",
    "    Q1 = [0] * (m + 1)\n",
    "\n",
    "    for i in range(0, m):\n",
    "        ops += 2\n",
    "        P1[i] = P[i] + P[m + i]\n",
    "        Q1[i] = Q[i] + Q[m + i]\n",
    "\n",
    "    if n > (2 * m) - 1:\n",
    "        P1[m] = P[n]\n",
    "        Q1[m] = Q[n]\n",
    "\n",
    "    # Get R1, R2, and R3 and increment counter\n",
    "    R1, R1_ops = karat_mult_poly_count(P[:m], Q[:m])\n",
    "    ops += R1_ops # increment ops counter\n",
    "    R2, R2_ops = karat_mult_poly_count(P[m:], Q[m:])\n",
    "    ops += R2_ops # increment ops counter\n",
    "    R3, R3_ops = karat_mult_poly_count(P1, Q1)\n",
    "    ops += R2_ops # increment ops counter\n",
    "\n",
    "    if len(R1) < 2 * m:\n",
    "        R1.append(0)\n",
    "\n",
    "    if len(R2) < 2 * m:\n",
    "        R2.append(0)\n",
    "\n",
    "    R4 = [0] * (2 * m)\n",
    "\n",
    "    for i in range(2 * m):\n",
    "        ops += 1 # increment ops counter\n",
    "        R4[i] = R3[i] - R1[i] - R2[i]\n",
    "\n",
    "    R = [0] * (2 * n + 1)\n",
    "\n",
    "    for i in range(len(R)):\n",
    "        r1 = r2 = r4 = 0\n",
    "\n",
    "        if i < len(R1):\n",
    "            ops += 1 # increment ops counter\n",
    "            r1 = R1[i]\n",
    "\n",
    "        if i >= m and i - (m) < len(R4):\n",
    "            ops += 1 # increment ops counter\n",
    "            r4 = R4[i - (m)]\n",
    "\n",
    "        if i >= 2 * (m):\n",
    "            ops += 1 # increment ops counter\n",
    "            r2 = R2[i - (2 * (m))]\n",
    "\n",
    "        R[i] = r1 + r2 + r4\n",
    "\n",
    "    return R, ops"
   ]
  },
  {
   "cell_type": "code",
   "execution_count": 126,
   "id": "02b07283",
   "metadata": {},
   "outputs": [],
   "source": [
    "# Input: non-negative integer n\n",
    "# Ouptut: number of operations taken to calculate the Rn polynomial\n",
    "# of degree n using the Karatsuba approach\n",
    "def pi_by_pi_count(n):\n",
    "    pi = read_pi(n+1)\n",
    "    \n",
    "    R = karat_mult_poly_count(pi, pi)[1]\n",
    "    \n",
    "    return R"
   ]
  },
  {
   "cell_type": "code",
   "execution_count": 127,
   "id": "2d682ce8",
   "metadata": {},
   "outputs": [],
   "source": [
    "# Input: non-negative integer n\n",
    "# Ouptut: number of operations taken to calculate the Rn polynomial\n",
    "# of degree n using the Karatsuba approach\n",
    "def naive_multiply_pi_count(n):\n",
    "    pi = read_pi(n+1)\n",
    "    \n",
    "    R = naive_multiply_count(pi, pi)[1]  \n",
    "    \n",
    "    return R"
   ]
  },
  {
   "cell_type": "code",
   "execution_count": null,
   "id": "b9ec4cbd",
   "metadata": {},
   "outputs": [],
   "source": []
  },
  {
   "cell_type": "code",
   "execution_count": 128,
   "id": "f56b8ae6",
   "metadata": {},
   "outputs": [],
   "source": [
    "def compare_ops(n):\n",
    "    X = list()\n",
    "    Yfast = list()\n",
    "    Yslow = list()\n",
    "    # Calculate the run-time in increments of 100\n",
    "    for i in range(1, n // 5):\n",
    "        X.append(i * 5)\n",
    "        Yfast.append(pi_by_pi_count(i * 5))\n",
    "        Yslow.append(naive_multiply_pi_count(i * 5))\n",
    "    \n",
    "    plt.plot(X, Yfast, label=\"Karatsuba's Approach\")\n",
    "    plt.plot(X, Yslow, label=\"Naive Approach\")\n",
    "    plt.title('Operations of Karatsuba vs. Naive Approach of Polynomial Multiplication')\n",
    "    plt.legend(loc='upper left')\n",
    "    plt.xlabel(\"Number of Digits of Pi Processed\")\n",
    "    plt.ylabel(\"Number of Operations\")\n",
    "\n",
    "    plt.show()"
   ]
  },
  {
   "cell_type": "code",
   "execution_count": 129,
   "id": "74c751cf",
   "metadata": {},
   "outputs": [
    {
     "data": {
      "image/png": "[encoded data removed]",
      "text/plain": [
       "<Figure size 432x288 with 1 Axes>"
      ]
     },
     "metadata": {
      "needs_background": "light"
     },
     "output_type": "display_data"
    }
   ],
   "source": [
    "compare_ops(1000)"
   ]
  },
  {
   "cell_type": "markdown",
   "id": "5245433f",
   "metadata": {},
   "source": [
    "We see that after roughly n>=200, Karatsuba beats the Naive. We note that there is a discrepancy -- this n is much smaller than the n we found when calculating actual time. I guess that this is most likely because Karatsuba has much more overhead (e.g., maintaining the recursive stack) that take run-time in practice but is not punished in counting operations."
   ]
  },
  {
   "cell_type": "code",
   "execution_count": 106,
   "id": "f6074962",
   "metadata": {},
   "outputs": [],
   "source": [
    "# Input: non-negative integer C\n",
    "# Output: graph of C*i^log(3) vs number of operations for \n",
    "# pi_by_pi_count(i) for every integer 1<=i<=200\n",
    "def karatsuba_vs_log(c):\n",
    "    X = list()\n",
    "    Yfast = list()\n",
    "    Ylog = list()\n",
    "    # Calculate the run-time in increments of 100\n",
    "    for i in range(1, 200):\n",
    "        X.append(i)\n",
    "        Yfast.append(pi_by_pi_count(i))\n",
    "        Ylog.append(c*math.pow(i,math.log(3,2)))\n",
    "    \n",
    "    plt.plot(X, Yfast, label=\"Karatsuba's Approach\")\n",
    "    plt.plot(X, Ylog, label=\"C times n^log2(3)\")\n",
    "    plt.title('Operations of Karatsuba vs. C*n^(log2(3))')\n",
    "    plt.legend(loc='upper left')\n",
    "    plt.xlabel(\"Number of Digits of Pi Processed\")\n",
    "    plt.ylabel(\"Number of Operations\")\n",
    "\n",
    "    plt.show()"
   ]
  },
  {
   "cell_type": "code",
   "execution_count": 114,
   "id": "3905de2a",
   "metadata": {},
   "outputs": [
    {
     "data": {
      "image/png": "[encoded data removed]",
      "text/plain": [
       "<Figure size 432x288 with 1 Axes>"
      ]
     },
     "metadata": {
      "needs_background": "light"
     },
     "output_type": "display_data"
    }
   ],
   "source": [
    "karatsuba_vs_log(8)"
   ]
  },
  {
   "cell_type": "markdown",
   "id": "fbf13f62",
   "metadata": {},
   "source": [
    "When we use C=8, we find that Karatsuba's time is bounded by the curve y(n) = C*n^log2(3)"
   ]
  },
  {
   "cell_type": "markdown",
   "id": "2c5ed32f",
   "metadata": {},
   "source": [
    "*Credit Statement:* Discussion with Jorie"
   ]
  },
  {
   "cell_type": "code",
   "execution_count": null,
   "id": "459d32e9",
   "metadata": {},
   "outputs": [],
   "source": []
  }
 ],
 "metadata": {
  "kernelspec": {
   "display_name": "Python 3 (ipykernel)",
   "language": "python",
   "name": "python3"
  },
  "language_info": {
   "codemirror_mode": {
    "name": "ipython",
    "version": 3
   },
   "file_extension": ".py",
   "mimetype": "text/x-python",
   "name": "python",
   "nbconvert_exporter": "python",
   "pygments_lexer": "ipython3",
   "version": "3.9.7"
  }
 },
 "nbformat": 4,
 "nbformat_minor": 5
}
